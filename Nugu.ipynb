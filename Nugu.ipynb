{
  "nbformat": 4,
  "nbformat_minor": 0,
  "metadata": {
    "colab": {
      "name": "Nugu.ipynb",
      "private_outputs": true,
      "provenance": [],
      "collapsed_sections": [],
      "machine_shape": "hm",
      "include_colab_link": true
    },
    "kernelspec": {
      "name": "python3",
      "display_name": "Python 3"
    }
  },
  "cells": [
    {
      "cell_type": "markdown",
      "metadata": {
        "id": "view-in-github",
        "colab_type": "text"
      },
      "source": [
        "<a href=\"https://colab.research.google.com/github/vietcode/nugu/blob/main/Nugu.ipynb\" target=\"_parent\"><img src=\"https://colab.research.google.com/assets/colab-badge.svg\" alt=\"Open In Colab\"/></a>"
      ]
    },
    {
      "cell_type": "markdown",
      "metadata": {
        "id": "aj3uXsTP8M3Q"
      },
      "source": [
        "## Settings\n",
        "\n",
        "Run this section at least once. Changes will be saved automatically.\n",
        "\n"
      ]
    },
    {
      "cell_type": "markdown",
      "metadata": {
        "id": "i0s0oZdIS5lb"
      },
      "source": [
        "### Servers"
      ]
    },
    {
      "cell_type": "code",
      "metadata": {
        "id": "tD_qHcPpS7U-"
      },
      "source": [
        "#@title {display-mode:\"form\", form-width: \"50%\", run: \"auto\"}\n",
        "\n",
        "HOST = \"post.eweka.nl\" #@param {type:\"string\"}\n",
        "PORT = 443 #@param {type:\"integer\"}\n",
        "# SSL = True #@param {type:\"boolean\"}\n",
        "CONNECTIONS =  10#@param {type:\"integer\", min:5, max:100, step:1}\n",
        "USER = \"\" #@param {type:\"string\"}\n",
        "PASSWORD = \"\" #@param {type:\"string\"}\n",
        "\n",
        "# Sets these into environment variables.\n",
        "import os\n",
        "\n",
        "os.environ[\"USENET_POST_HOST\"] = HOST\n",
        "os.environ[\"USENET_POST_PORT\"] = str(PORT)\n",
        "os.environ[\"USENET_POST_CONNECTIONS\"] = str(CONNECTIONS)\n",
        "os.environ[\"USENET_POST_USER\"] = USER\n",
        "os.environ[\"USENET_POST_PASSWORD\"] = PASSWORD"
      ],
      "execution_count": null,
      "outputs": []
    },
    {
      "cell_type": "markdown",
      "metadata": {
        "id": "PRy4o7KAmmZJ"
      },
      "source": [
        "### Parameters"
      ]
    },
    {
      "cell_type": "code",
      "metadata": {
        "id": "NKBQQI5qmmZS"
      },
      "source": [
        "#@title {display-mode:\"form\", form-width: \"50%\", run: \"auto\"}\n",
        "\n",
        "FROM = \"w8uOnbziXvNdp@nugu.com\" #@param {type:\"string\"}\n",
        "GROUPS = \"alt.binaries.test,alt.binaries.boneless\" #@param {type:\"string\"}\n",
        "# Default article size to 2MB instead of 700KB.\n",
        "ARTICLE_SIZE = 2097152 #@param {type:\"integer\"}\n",
        "CONNECTION_THREADS =  10#@param {type:\"integer\"}\n",
        "CHECK_CONNECTIONS = 25 #@param {type:\"integer\"}\n",
        "CHECK_DELAY = 5 #@param {type:\"integer\"}\n",
        "CHECK_QUEUE_CACHE = 200 #@param {type:\"integer\"}\n",
        "\n",
        "# Sets these into environment variables.\n",
        "import os\n",
        "\n",
        "os.environ[\"USENET_POST_FROM\"] = FROM\n",
        "os.environ[\"USENET_POST_GROUPS\"] = GROUPS\n",
        "os.environ[\"USENET_POST_ARTICLE_SIZE\"] = str(ARTICLE_SIZE)\n",
        "os.environ[\"USENET_POST_CONNECTION_THREADS\"] = str(CONNECTION_THREADS)\n",
        "os.environ[\"USENET_POST_CHECK_CONNECTIONS\"] = str(CHECK_CONNECTIONS)\n",
        "os.environ[\"USENET_POST_CHECK_DELAY\"] = str(CHECK_DELAY)\n",
        "os.environ[\"USENET_POST_CHECK_QUEUE_CACHE\"] = str(CHECK_QUEUE_CACHE)\n",
        "os.environ[\"USENET_POST_CHECK_GROUP\"] = \"bit.test\"\n",
        "\n",
        "#@markdown ---\n",
        "\n",
        "NzbDestinationPath = \"/content\" #@param {type:\"string\"}"
      ],
      "execution_count": null,
      "outputs": []
    },
    {
      "cell_type": "markdown",
      "metadata": {
        "id": "Od6RPM6fP1rc"
      },
      "source": [
        "### Rclone"
      ]
    },
    {
      "cell_type": "code",
      "metadata": {
        "id": "vGyTWGLqP1rm"
      },
      "source": [
        "#@title {display-mode:\"form\", form-width: \"50%\", run: \"auto\"}\n",
        "\n",
        "RCLONE_CONFIG = \"/content/rclone.conf\" #@param {type:\"string\"}\n",
        "\n",
        "# Sets these into environment variables.\n",
        "import os\n",
        "\n",
        "# Ensures config file exist.\n",
        "!touch \"{RCLONE_CONFIG}\"\n",
        "# Points rclone to that config file.\n",
        "os.environ[\"RCLONE_CONFIG\"] = RCLONE_CONFIG"
      ],
      "execution_count": null,
      "outputs": []
    },
    {
      "cell_type": "markdown",
      "metadata": {
        "id": "7vKiyjx98QIM"
      },
      "source": [
        "## Quick Post\n",
        "\n",
        "Use a cell for each upload job. Copy and paste existing cell to add more."
      ]
    },
    {
      "cell_type": "code",
      "metadata": {
        "id": "cLcCBUJz4uoV"
      },
      "source": [
        "#@title Upload content from a path to Usenet { display-mode: \"form\", form-width: \"50%\" }\n",
        "\n",
        "remote_path = \"/content/drive/MyDrive\" #@param {type:\"string\"}\n",
        "\n",
        "#@markdown ---\n",
        "#@markdown <i>Optional</i>\n",
        "\n",
        "nzb_file_name = \"\" #@param {type:\"string\"}\n",
        "nzb_title = \"\" #@param {type:\"string\"}\n",
        "nzb_tag = \"\" #@param {type:\"string\"}\n",
        "nzb_category = \"\" #@param {type:\"string\"}\n",
        "nzb_password = \"\" #@param {type:\"string\"}\n",
        "nzb_minify = False #@param {type:\"boolean\"}\n",
        "\n",
        "import os\n",
        "\n",
        "# Install if haven't.\n",
        "if not os.path.isdir(\"/content/node_modules/nugu\"):\n",
        "  !rm -rf /content/sample_data/\n",
        "  !npm install --silent --no-progress -g npm &> /dev/null\n",
        "  !npm install --silent --no-progress vietcode/nugu &> /dev/null\n",
        "\n",
        "# If not set, uses the stem of the remote path as NZB filename.\n",
        "if not nzb_file_name:\n",
        "  from pathlib import Path\n",
        "  nzb_file_name = Path(remote_path).stem + \".nzb\"\n",
        "\n",
        "flags = \"--progress=log:2s\"\n",
        "\n",
        "if nzb_title:\n",
        "  flags += \" --nzb-title '\" + nzb_title + \"'\"\n",
        "\n",
        "if nzb_tag:\n",
        "  flags += \" --nzb-tag '\" + nzb_tag + \"'\"\n",
        "\n",
        "if nzb_category:\n",
        "  flags += \" --nzb-category '\" + nzb_category + \"'\"\n",
        "\n",
        "if nzb_password:\n",
        "  flags += \" --nzb-password '\" + nzb_password + \"'\"\n",
        "\n",
        "if nzb_minify == True:\n",
        "  flags += \" --minify\"\n",
        "\n",
        "!npx nugu {flags} '{remote_path}' > '{NzbDestinationPath}/{nzb_file_name}'"
      ],
      "execution_count": null,
      "outputs": []
    }
  ]
}